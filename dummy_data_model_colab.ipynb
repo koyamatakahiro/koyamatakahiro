{
 "cells": [
  {
   "cell_type": "code",
   "execution_count": 0,
   "metadata": {
    "ExecuteTime": {
     "end_time": "2019-11-15T10:18:47.205860Z",
     "start_time": "2019-11-15T10:18:47.188117Z"
    },
    "colab": {},
    "colab_type": "code",
    "id": "pKkVbd6D-VKF"
   },
   "outputs": [],
   "source": [
    "%matplotlib inline\n",
    "%config InlineBackend.figure_formats = {'png', 'retina'}"
   ]
  },
  {
   "cell_type": "code",
   "execution_count": 0,
   "metadata": {
    "ExecuteTime": {
     "end_time": "2019-11-15T10:18:47.652366Z",
     "start_time": "2019-11-15T10:18:47.208507Z"
    },
    "colab": {},
    "colab_type": "code",
    "id": "Fn_gLfu--VKJ"
   },
   "outputs": [],
   "source": [
    "import os\n",
    "import sys \n",
    "import numpy as np\n",
    "import pandas as pd\n",
    "\n",
    "import lightgbm as lgb\n",
    "from sklearn.model_selection import train_test_split\n",
    "\n",
    "import matplotlib.pyplot as plt\n",
    "import seaborn as sns"
   ]
  },
  {
   "cell_type": "code",
   "execution_count": 0,
   "metadata": {
    "ExecuteTime": {
     "end_time": "2019-11-15T10:18:48.224099Z",
     "start_time": "2019-11-15T10:18:47.657658Z"
    },
    "colab": {
     "base_uri": "https://localhost:8080/",
     "height": 187
    },
    "colab_type": "code",
    "id": "IwNVlF_9-VKL",
    "outputId": "22c29bdb-6983-4bde-fde8-a0e5c0d1c2b7"
   },
   "outputs": [
    {
     "name": "stdout",
     "output_type": "stream",
     "text": [
      "駅名,建物構造,徒歩分,専有面積,間取り,部屋数,築年,所在階,成約価格\n",
      "大門,SRC,5,66,K,1,200003,33,81000000\n",
      "汐留,RC,8,55,R,1,201708,16,81600000\n",
      "赤坂見附,SRC,4,60,DK,1,198300,30,77600000\n",
      "六本木一丁目,RC,8,53,DK,1,201204,44,75500000\n",
      "表参道,RC,6,35,R,1,200510,2,47700000\n",
      "外苑前,SRC,2,47,K,1,200607,13,71600000\n",
      "表参道,SRC,6,48,K,2,200610,4,69800000\n",
      "溜池山王,RC,5,146,K,3,200002,6,224900000\n",
      "六本木,SRC,4,80,DK,2,198010,3,76900000\n"
     ]
    }
   ],
   "source": [
    "!head ./dummy_data.csv"
   ]
  },
  {
   "cell_type": "code",
   "execution_count": 0,
   "metadata": {
    "ExecuteTime": {
     "end_time": "2019-11-15T10:18:48.294664Z",
     "start_time": "2019-11-15T10:18:48.227270Z"
    },
    "colab": {
     "base_uri": "https://localhost:8080/",
     "height": 51
    },
    "colab_type": "code",
    "id": "LieqJtf_-VKO",
    "outputId": "ab2981f8-01bd-4100-9320-b23ea87eebd5"
   },
   "outputs": [
    {
     "name": "stdout",
     "output_type": "stream",
     "text": [
      "num of train data : 35000\n",
      "num of test data : 5000\n"
     ]
    }
   ],
   "source": [
    "# data load\n",
    "data = pd.read_csv(\"dummy_data.csv\")\n",
    "#train test split\n",
    "train_data, test_data = train_test_split(data, test_size=5000, random_state=0)\n",
    "print(f'num of train data : {len(train_data)}')\n",
    "print(f'num of test data : {len(test_data)}')"
   ]
  },
  {
   "cell_type": "code",
   "execution_count": 0,
   "metadata": {
    "ExecuteTime": {
     "end_time": "2019-11-15T10:18:48.479467Z",
     "start_time": "2019-11-15T10:18:48.298073Z"
    },
    "colab": {},
    "colab_type": "code",
    "id": "_o0yn6UV-VKQ"
   },
   "outputs": [],
   "source": [
    "# 特徴作成\n",
    "def create_feature(data):\n",
    "    feature = data[[\"駅名\", \"建物構造\", \"徒歩分\", \"専有面積\", \"間取り\", \"部屋数\", \"築年\", \"所在階\"]].copy()\n",
    "    feature[\"築年\"] = pd.to_datetime(feature[\"築年\"].fillna(0).astype(int).astype(str), format=\"%Y%m\", errors=\"coerce\")\n",
    "    feature[\"築年\"] = (feature[\"築年\"] - pd.to_datetime(\"1900-01-01\")).dt.total_seconds() #日付を連続値に変換\n",
    "    feature[\"所在階\"] = feature[\"所在階\"].str.replace('B', '-').astype(int) #地下表記を数字に変換\n",
    "    \n",
    "    cat_cols = ['駅名', '建物構造', '間取り']\n",
    "    feature[cat_cols] = feature[cat_cols].astype(\"category\")\n",
    "    feature = feature.rename(columns={'駅名': 'station', '建物構造': 'structure', '徒歩分': 'walk_min', '専有面積': 'area', '間取り': 'room_type', '部屋数': 'room', '築年': 'age', '所在階': 'floor'})\n",
    "    \n",
    "    return feature\n",
    "    \n",
    "X_train = create_feature(train_data)\n",
    "y_train = train_data[\"成約価格\"]"
   ]
  },
  {
   "cell_type": "code",
   "execution_count": 0,
   "metadata": {
    "ExecuteTime": {
     "end_time": "2019-11-15T10:18:48.515254Z",
     "start_time": "2019-11-15T10:18:48.484491Z"
    },
    "colab": {
     "base_uri": "https://localhost:8080/",
     "height": 204
    },
    "colab_type": "code",
    "id": "YCVX856G-VKS",
    "outputId": "00274f8f-dc99-4cef-e83d-bdd76be2414c"
   },
   "outputs": [
    {
     "data": {
      "text/html": [
       "<div>\n",
       "<style scoped>\n",
       "    .dataframe tbody tr th:only-of-type {\n",
       "        vertical-align: middle;\n",
       "    }\n",
       "\n",
       "    .dataframe tbody tr th {\n",
       "        vertical-align: top;\n",
       "    }\n",
       "\n",
       "    .dataframe thead th {\n",
       "        text-align: right;\n",
       "    }\n",
       "</style>\n",
       "<table border=\"1\" class=\"dataframe\">\n",
       "  <thead>\n",
       "    <tr style=\"text-align: right;\">\n",
       "      <th></th>\n",
       "      <th>station</th>\n",
       "      <th>structure</th>\n",
       "      <th>walk_min</th>\n",
       "      <th>area</th>\n",
       "      <th>room_type</th>\n",
       "      <th>room</th>\n",
       "      <th>age</th>\n",
       "      <th>floor</th>\n",
       "    </tr>\n",
       "  </thead>\n",
       "  <tbody>\n",
       "    <tr>\n",
       "      <th>17714</th>\n",
       "      <td>赤坂見附</td>\n",
       "      <td>RC</td>\n",
       "      <td>8</td>\n",
       "      <td>85</td>\n",
       "      <td>K</td>\n",
       "      <td>1</td>\n",
       "      <td>3.316205e+09</td>\n",
       "      <td>2</td>\n",
       "    </tr>\n",
       "    <tr>\n",
       "      <th>21179</th>\n",
       "      <td>目黒</td>\n",
       "      <td>RC</td>\n",
       "      <td>1</td>\n",
       "      <td>55</td>\n",
       "      <td>K</td>\n",
       "      <td>3</td>\n",
       "      <td>3.600202e+09</td>\n",
       "      <td>7</td>\n",
       "    </tr>\n",
       "    <tr>\n",
       "      <th>27460</th>\n",
       "      <td>田町</td>\n",
       "      <td>SRC</td>\n",
       "      <td>14</td>\n",
       "      <td>86</td>\n",
       "      <td>R</td>\n",
       "      <td>2</td>\n",
       "      <td>2.182550e+09</td>\n",
       "      <td>7</td>\n",
       "    </tr>\n",
       "    <tr>\n",
       "      <th>22341</th>\n",
       "      <td>天王洲アイル</td>\n",
       "      <td>RC</td>\n",
       "      <td>4</td>\n",
       "      <td>21</td>\n",
       "      <td>K</td>\n",
       "      <td>2</td>\n",
       "      <td>3.476390e+09</td>\n",
       "      <td>6</td>\n",
       "    </tr>\n",
       "    <tr>\n",
       "      <th>5648</th>\n",
       "      <td>泉岳寺</td>\n",
       "      <td>RC</td>\n",
       "      <td>6</td>\n",
       "      <td>81</td>\n",
       "      <td>R</td>\n",
       "      <td>1</td>\n",
       "      <td>3.347741e+09</td>\n",
       "      <td>7</td>\n",
       "    </tr>\n",
       "  </tbody>\n",
       "</table>\n",
       "</div>"
      ],
      "text/plain": [
       "      station structure  walk_min  area room_type  room           age  floor\n",
       "17714    赤坂見附        RC         8    85         K     1  3.316205e+09      2\n",
       "21179      目黒        RC         1    55         K     3  3.600202e+09      7\n",
       "27460      田町       SRC        14    86         R     2  2.182550e+09      7\n",
       "22341  天王洲アイル        RC         4    21         K     2  3.476390e+09      6\n",
       "5648      泉岳寺        RC         6    81         R     1  3.347741e+09      7"
      ]
     },
     "execution_count": 22,
     "metadata": {
      "tags": []
     },
     "output_type": "execute_result"
    }
   ],
   "source": [
    "X_train.head()"
   ]
  },
  {
   "cell_type": "code",
   "execution_count": 0,
   "metadata": {
    "ExecuteTime": {
     "end_time": "2019-11-15T10:18:51.809279Z",
     "start_time": "2019-11-15T10:18:48.522079Z"
    },
    "colab": {
     "base_uri": "https://localhost:8080/",
     "height": 476
    },
    "colab_type": "code",
    "id": "eTYucTdU-VKT",
    "outputId": "6634ed03-a3f5-4812-b35c-ebb112e72fbb"
   },
   "outputs": [
    {
     "name": "stderr",
     "output_type": "stream",
     "text": [
      "/usr/local/lib/python3.6/dist-packages/lightgbm/basic.py:762: UserWarning: categorical_feature in param dict is overridden.\n",
      "  warnings.warn('categorical_feature in param dict is overridden.')\n"
     ]
    },
    {
     "name": "stdout",
     "output_type": "stream",
     "text": [
      "Training until validation scores don't improve for 100 rounds.\n",
      "[100]\tvalid_0's rmse: 5.23892e+06\n",
      "[200]\tvalid_0's rmse: 4.65953e+06\n",
      "[300]\tvalid_0's rmse: 4.40304e+06\n",
      "[400]\tvalid_0's rmse: 4.24161e+06\n",
      "[500]\tvalid_0's rmse: 4.11225e+06\n",
      "[600]\tvalid_0's rmse: 4.02558e+06\n",
      "[700]\tvalid_0's rmse: 3.96e+06\n",
      "[800]\tvalid_0's rmse: 3.91533e+06\n",
      "[900]\tvalid_0's rmse: 3.87899e+06\n",
      "[1000]\tvalid_0's rmse: 3.85354e+06\n",
      "[1100]\tvalid_0's rmse: 3.82572e+06\n",
      "[1200]\tvalid_0's rmse: 3.81085e+06\n",
      "[1300]\tvalid_0's rmse: 3.78757e+06\n",
      "[1400]\tvalid_0's rmse: 3.77192e+06\n",
      "[1500]\tvalid_0's rmse: 3.75903e+06\n",
      "[1600]\tvalid_0's rmse: 3.74787e+06\n",
      "[1700]\tvalid_0's rmse: 3.73676e+06\n",
      "[1800]\tvalid_0's rmse: 3.72712e+06\n",
      "[1900]\tvalid_0's rmse: 3.71579e+06\n",
      "[2000]\tvalid_0's rmse: 3.70824e+06\n",
      "[2100]\tvalid_0's rmse: 3.70422e+06\n",
      "[2200]\tvalid_0's rmse: 3.70161e+06\n",
      "Early stopping, best iteration is:\n",
      "[2148]\tvalid_0's rmse: 3.70058e+06\n"
     ]
    }
   ],
   "source": [
    "# LightGBMの学習\n",
    "X_trn, X_val, y_trn, y_val = train_test_split(X_train, y_train, test_size=5000, random_state=0)\n",
    "\n",
    "lgb_dataset_trn = lgb.Dataset(X_trn, label=y_trn, categorical_feature='auto')\n",
    "lgb_dataset_val = lgb.Dataset(X_val, label=y_val, categorical_feature='auto')\n",
    "\n",
    "params = {\n",
    "    'objective' : 'rmse', \n",
    "    'learning_rate' : 0.1, \n",
    "    'max_depth' : 4, \n",
    "}\n",
    "\n",
    "model = lgb.train(\n",
    "    params=params, \n",
    "    train_set=lgb_dataset_trn, \n",
    "    valid_sets=[lgb_dataset_val], \n",
    "    num_boost_round=10000, \n",
    "    early_stopping_rounds=100, \n",
    "    verbose_eval=100\n",
    ")"
   ]
  },
  {
   "cell_type": "code",
   "execution_count": 0,
   "metadata": {
    "ExecuteTime": {
     "end_time": "2019-11-15T10:18:53.097439Z",
     "start_time": "2019-11-15T10:18:51.811999Z"
    },
    "colab": {
     "base_uri": "https://localhost:8080/",
     "height": 51
    },
    "colab_type": "code",
    "id": "SpcEQkmN-VKV",
    "outputId": "3880a0d6-dc1b-4722-815a-c45ecb470d8c"
   },
   "outputs": [
    {
     "name": "stdout",
     "output_type": "stream",
     "text": [
      "train mape : 4.408%\n",
      "valid mape : 5.629%\n"
     ]
    }
   ],
   "source": [
    "# validの確認\n",
    "def calc_mape(y_true, y_pred):\n",
    "    data_num = len(y_true)\n",
    "    mape = (np.sum(np.abs(y_pred-y_true)/y_true)/data_num)*100\n",
    "    return mape\n",
    "\n",
    "train_pred = model.predict(X_train)\n",
    "train_mape = calc_mape(y_train.values, train_pred)\n",
    "val_pred = model.predict(X_val)\n",
    "val_mape = calc_mape(y_val.values, val_pred)\n",
    "print(f'train mape : {train_mape:.3f}%')\n",
    "print(f'valid mape : {val_mape:.3f}%')"
   ]
  },
  {
   "cell_type": "code",
   "execution_count": 0,
   "metadata": {
    "ExecuteTime": {
     "end_time": "2019-11-15T10:18:53.374406Z",
     "start_time": "2019-11-15T10:18:53.103356Z"
    },
    "colab": {
     "base_uri": "https://localhost:8080/",
     "height": 34
    },
    "colab_type": "code",
    "id": "VoijaUeG-VKX",
    "outputId": "c18924ce-9171-49a1-d095-d436db3f04c1"
   },
   "outputs": [
    {
     "name": "stdout",
     "output_type": "stream",
     "text": [
      "test mape : 5.516%\n"
     ]
    }
   ],
   "source": [
    "X_test = create_feature(test_data)\n",
    "y_test = test_data[\"成約価格\"]\n",
    "\n",
    "test_pred = model.predict(X_test)\n",
    "test_mape = calc_mape(y_test.values, test_pred)\n",
    "print(f'test mape : {test_mape:.3f}%')"
   ]
  },
  {
   "cell_type": "code",
   "execution_count": 0,
   "metadata": {
    "ExecuteTime": {
     "end_time": "2019-11-15T10:18:53.744717Z",
     "start_time": "2019-11-15T10:18:53.379724Z"
    },
    "colab": {
     "base_uri": "https://localhost:8080/",
     "height": 387
    },
    "colab_type": "code",
    "id": "s7guKV-L-VKa",
    "outputId": "e1159ff3-6cc3-4fae-c89e-4aced2901ac2"
   },
   "outputs": [
    {
     "data": {
      "image/png": "[encoded data removed]",
      "text/plain": [
       "<Figure size 432x432 with 1 Axes>"
      ]
     },
     "metadata": {
      "image/png": {
       "height": 370,
       "width": 423
      },
      "tags": []
     },
     "output_type": "display_data"
    }
   ],
   "source": [
    "plt.rcParams[\"font.family\"] = \"IPAexGothic\"\n",
    "feature_importance = pd.DataFrame({\n",
    "    'feature_name' : model.feature_name(),\n",
    "    'importance' : model.feature_importance(importance_type='gain'), \n",
    "})\n",
    "feature_importance = feature_importance.sort_values('importance', ascending=False)\n",
    "\n",
    "plt.figure(figsize = (6, 6))\n",
    "sns.barplot(data=feature_importance, x='importance', y='feature_name')\n",
    "plt.savefig('feature_importance.png')"
   ]
  },
  {
   "cell_type": "markdown",
   "metadata": {
    "colab_type": "text",
    "id": "R0uVWVbE-VKd"
   },
   "source": [
    "## 補足用"
   ]
  },
  {
   "cell_type": "code",
   "execution_count": 0,
   "metadata": {
    "ExecuteTime": {
     "end_time": "2019-11-15T10:19:41.306297Z",
     "start_time": "2019-11-15T10:18:53.748408Z"
    },
    "colab": {
     "base_uri": "https://localhost:8080/",
     "height": 187
    },
    "colab_type": "code",
    "id": "9NhZgue4-VKe",
    "outputId": "d244d33b-f268-4682-c9fc-fa89dec64bef",
    "scrolled": true
   },
   "outputs": [
    {
     "name": "stdout",
     "output_type": "stream",
     "text": [
      "[1000]\ttraining's rmse: 2.95614e+06\ttraining's mape: 4.76283\tvalid_1's rmse: 3.85354e+06\tvalid_1's mape: 5.74931\n",
      "[2000]\ttraining's rmse: 2.5456e+06\ttraining's mape: 4.26003\tvalid_1's rmse: 3.70824e+06\tvalid_1's mape: 5.63264\n",
      "[3000]\ttraining's rmse: 2.30932e+06\ttraining's mape: 3.91434\tvalid_1's rmse: 3.66669e+06\tvalid_1's mape: 5.62127\n",
      "[4000]\ttraining's rmse: 2.13942e+06\ttraining's mape: 3.62672\tvalid_1's rmse: 3.65281e+06\tvalid_1's mape: 5.6238\n",
      "[5000]\ttraining's rmse: 1.99874e+06\ttraining's mape: 3.38285\tvalid_1's rmse: 3.65117e+06\tvalid_1's mape: 5.63731\n",
      "[6000]\ttraining's rmse: 1.87805e+06\ttraining's mape: 3.16736\tvalid_1's rmse: 3.65789e+06\tvalid_1's mape: 5.64892\n",
      "[7000]\ttraining's rmse: 1.77243e+06\ttraining's mape: 2.97908\tvalid_1's rmse: 3.6623e+06\tvalid_1's mape: 5.66245\n",
      "[8000]\ttraining's rmse: 1.68095e+06\ttraining's mape: 2.82267\tvalid_1's rmse: 3.6716e+06\tvalid_1's mape: 5.68084\n",
      "[9000]\ttraining's rmse: 1.60361e+06\ttraining's mape: 2.67014\tvalid_1's rmse: 3.68513e+06\tvalid_1's mape: 5.7093\n",
      "[10000]\ttraining's rmse: 1.53158e+06\ttraining's mape: 2.53654\tvalid_1's rmse: 3.69288e+06\tvalid_1's mape: 5.73016\n"
     ]
    }
   ],
   "source": [
    "# 10000イテレーションまでLightGBMを学習\n",
    "def mape_func(y_pred, data):\n",
    "    y_true = data.get_label()\n",
    "    mape = calc_mape(y_true, y_pred)\n",
    "    return 'mape', mape, False\n",
    "\n",
    "result_dic ={}\n",
    "model = lgb.train(\n",
    "    params=params, \n",
    "    train_set=lgb_dataset_trn, \n",
    "    valid_sets=[lgb_dataset_trn, lgb_dataset_val], \n",
    "    feval=mape_func, \n",
    "    num_boost_round=10000, \n",
    "    verbose_eval=1000, \n",
    "    evals_result=result_dic\n",
    ")"
   ]
  },
  {
   "cell_type": "code",
   "execution_count": 0,
   "metadata": {
    "ExecuteTime": {
     "end_time": "2019-11-15T10:19:41.778513Z",
     "start_time": "2019-11-15T10:19:41.309086Z"
    },
    "colab": {
     "base_uri": "https://localhost:8080/",
     "height": 391
    },
    "colab_type": "code",
    "id": "u6j6XLlw-VKg",
    "outputId": "20a5d402-714a-4f39-b295-693b9a35af0d"
   },
   "outputs": [
    {
     "data": {
      "image/png": "[encoded data removed]",
      "text/plain": [
       "<Figure size 720x432 with 1 Axes>"
      ]
     },
     "metadata": {
      "image/png": {
       "height": 374,
       "width": 599
      },
      "tags": []
     },
     "output_type": "display_data"
    }
   ],
   "source": [
    "# 10000イテレーションまでの学習経過を表示\n",
    "result_df = pd.DataFrame(result_dic['training']).add_prefix('train_').join(pd.DataFrame(result_dic['valid_1']).add_prefix('valid_'))\n",
    "fig, ax = plt.subplots(figsize=(10, 6))\n",
    "result_df[['train_mape', 'valid_mape']].plot(ax=ax)\n",
    "ax.set_ylabel('MAPE [%]')\n",
    "ax.set_xlabel('num of iteration')\n",
    "ax.set_ylim(2, 8)\n",
    "ax.grid()"
   ]
  },
  {
   "cell_type": "code",
   "execution_count": 0,
   "metadata": {
    "colab": {},
    "colab_type": "code",
    "id": "lgZbfq6o-VKi"
   },
   "outputs": [],
   "source": [
    "data = data.append(pd.DataFrame.from_dict({\n",
    "    \"駅名\": [\"新橋\"],\n",
    "    \"建物構造\": [\"SRC\"],\n",
    "    \"徒歩分\": [10],\n",
    "    \"専有面積\": [30],\n",
    "    \"間取り\": [\"R\"],\n",
    "    \"部屋数\": [1],\n",
    "    \"築年\": [\"198001\"],\n",
    "    \"所在階\": [\"5\"],\n",
    "    \"成約価格\": [-1]\n",
    "})).reset_index(drop=True)\n",
    "X = create_feature(data)\n",
    "model.predict(X[-1:])"
   ]
  }
 ],
 "metadata": {
  "colab": {
   "collapsed_sections": [],
   "name": "dummy_data_model_colab.ipynb",
   "provenance": [],
   "toc_visible": true
  },
  "kernelspec": {
   "display_name": "Python 3",
   "language": "python",
   "name": "python3"
  },
  "language_info": {
   "codemirror_mode": {
    "name": "ipython",
    "version": 3
   },
   "file_extension": ".py",
   "mimetype": "text/x-python",
   "name": "python",
   "nbconvert_exporter": "python",
   "pygments_lexer": "ipython3",
   "version": "3.6.5"
  },
  "toc": {
   "base_numbering": 1,
   "nav_menu": {},
   "number_sections": true,
   "sideBar": true,
   "skip_h1_title": false,
   "title_cell": "Table of Contents",
   "title_sidebar": "Contents",
   "toc_cell": false,
   "toc_position": {},
   "toc_section_display": true,
   "toc_window_display": false
  }
 },
 "nbformat": 4,
 "nbformat_minor": 1
}
