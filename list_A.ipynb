{
 "cells": [
  {
   "cell_type": "code",
   "execution_count": 0,
   "metadata": {
    "colab": {},
    "colab_type": "code",
    "id": "pEgpYgL1XjtB"
   },
   "outputs": [],
   "source": [
    "import os\n",
    "import tensorflow as tf\n",
    "from sklearn.model_selection import train_test_split\n",
    "from tensorflow.python.keras.callbacks import TensorBoard\n",
    "import pandas as pd\n",
    "import numpy as np\n",
    "from datetime import datetime\n",
    "import tensorflow as tf"
   ]
  },
  {
   "cell_type": "code",
   "execution_count": 0,
   "metadata": {
    "colab": {},
    "colab_type": "code",
    "id": "0LVk8HNBXoI6"
   },
   "outputs": [],
   "source": [
    "# model\n",
    "class MLP(tf.keras.Model):\n",
    "    def __init__(self):\n",
    "        super(MLP, self).__init__()\n",
    "        self.dense1 = tf.keras.layers.Dense(512, activation=\"relu\")\n",
    "        self.dense2 = tf.keras.layers.Dense(512, activation=\"relu\")\n",
    "        self.dropout1 = tf.keras.layers.Dropout(0.1)\n",
    "        self.dense3 = tf.keras.layers.Dense(1028, activation=\"relu\")\n",
    "        self.dense4 = tf.keras.layers.Dense(1, activation=\"relu\")\n",
    "\n",
    "    def call(self, x):\n",
    "        x = self.dense1(x)\n",
    "        x = self.dense2(x)\n",
    "        x = self.dropout1(x)\n",
    "        x = self.dense3(x)\n",
    "        return self.dense4(x)"
   ]
  },
  {
   "cell_type": "code",
   "execution_count": 0,
   "metadata": {
    "colab": {},
    "colab_type": "code",
    "id": "UVx_a9x9Xrqf"
   },
   "outputs": [],
   "source": [
    "# 0 ~ 1 の範囲に正則化\n",
    "def min_max(x):\n",
    "    min_value = x.min()\n",
    "    max_value = x.max()\n",
    "    result = (x - min_value)/(max_value - min_value)\n",
    "    return result\n",
    "\n",
    "def create_feature(data):\n",
    "    feature = {}\n",
    "    cat_cols = ['駅名', '建物構造', '間取り']\n",
    "    for cat_col in cat_cols:\n",
    "        cat_data = data[cat_col].values\n",
    "        cat_categories = data[cat_col].unique().tolist()\n",
    "        cat_indices = []\n",
    "        for cat_datum in cat_data:\n",
    "            cat_indices.append(cat_categories.index(cat_datum))\n",
    "        feature[cat_col] = np.eye(len(cat_categories))[cat_indices]\n",
    "\n",
    "    feature[\"所在階\"] = min_max(data[\"所在階\"].str.replace('B', '-').astype(int).values) #地下表記を数字に変換\n",
    "    feature[\"徒歩分\"] = min_max(data[\"徒歩分\"].values)\n",
    "    feature[\"専有面積\"] = min_max(data[\"専有面積\"].values)\n",
    "    feature[\"部屋数\"] = min_max(data[\"部屋数\"].values)\n",
    "    feature[\"築年\"] = data[\"築年\"].values\n",
    "    feature[\"築年\"] = pd.to_datetime(data[\"築年\"].astype(str), format=\"%Y%M\", errors=\"coerce\")\n",
    "    feature[\"築年\"] = min_max((pd.to_datetime(\"2019-10-01\") - feature[\"築年\"]).dt.days.values.astype(int))\n",
    "\n",
    "    feature_vec = np.hstack((\n",
    "        feature[\"駅名\"],\n",
    "        feature[\"建物構造\"],\n",
    "        feature[\"間取り\"],\n",
    "        feature[\"徒歩分\"][:, np.newaxis],\n",
    "        feature[\"専有面積\"][:, np.newaxis],\n",
    "        feature[\"部屋数\"][:, np.newaxis],\n",
    "        feature[\"築年\"][:, np.newaxis],\n",
    "        feature[\"所在階\"][:, np.newaxis],\n",
    "    ))\n",
    "\n",
    "    return feature_vec"
   ]
  },
  {
   "cell_type": "code",
   "execution_count": 0,
   "metadata": {
    "colab": {},
    "colab_type": "code",
    "id": "bAEkK1UkX9sw"
   },
   "outputs": [],
   "source": [
    "data = pd.read_csv(\"dummy_data.csv\")"
   ]
  },
  {
   "cell_type": "code",
   "execution_count": 0,
   "metadata": {
    "colab": {},
    "colab_type": "code",
    "id": "jdfDKj5LYHV9"
   },
   "outputs": [],
   "source": [
    "#train test split\n",
    "X = create_feature(data)\n",
    "Y = data[\"成約価格\"].values\n",
    "x_train, x_test, y_train, y_test= train_test_split(X, Y, test_size=5000, random_state=0)\n",
    "x_train, x_valid, y_train, y_valid = train_test_split(x_train, y_train, test_size=5000, random_state=0)"
   ]
  },
  {
   "cell_type": "code",
   "execution_count": 0,
   "metadata": {
    "colab": {
     "base_uri": "https://localhost:8080/",
     "height": 1000
    },
    "colab_type": "code",
    "id": "PCGIlQkzYJKS",
    "outputId": "a8dd9b73-e1e1-4cf3-d480-320d75102d38"
   },
   "outputs": [
    {
     "name": "stdout",
     "output_type": "stream",
     "text": [
      "WARNING:tensorflow:`period` argument is deprecated. Please use `save_freq` to specify the frequency in number of samples seen.\n",
      "Train on 30000 samples, validate on 5000 samples\n",
      "Epoch 1/100\n",
      "30000/30000 [==============================] - 3s 94us/sample - loss: 63.4185 - mean_absolute_percentage_error: 63.4185 - val_loss: 29.3284 - val_mean_absolute_percentage_error: 29.3284\n",
      "Epoch 2/100\n",
      "30000/30000 [==============================] - 3s 89us/sample - loss: 13.7878 - mean_absolute_percentage_error: 13.7878 - val_loss: 9.4491 - val_mean_absolute_percentage_error: 9.4491\n",
      "Epoch 3/100\n",
      "30000/30000 [==============================] - 3s 89us/sample - loss: 9.5135 - mean_absolute_percentage_error: 9.5135 - val_loss: 9.2566 - val_mean_absolute_percentage_error: 9.2566\n",
      "Epoch 4/100\n",
      "30000/30000 [==============================] - 3s 89us/sample - loss: 9.2067 - mean_absolute_percentage_error: 9.2067 - val_loss: 8.8954 - val_mean_absolute_percentage_error: 8.8954\n",
      "Epoch 5/100\n",
      "30000/30000 [==============================] - 3s 88us/sample - loss: 8.9930 - mean_absolute_percentage_error: 8.9930 - val_loss: 9.5917 - val_mean_absolute_percentage_error: 9.5917\n",
      "Epoch 6/100\n",
      "30000/30000 [==============================] - 3s 88us/sample - loss: 8.8110 - mean_absolute_percentage_error: 8.8110 - val_loss: 8.6393 - val_mean_absolute_percentage_error: 8.6393\n",
      "Epoch 7/100\n",
      "30000/30000 [==============================] - 3s 89us/sample - loss: 8.6092 - mean_absolute_percentage_error: 8.6092 - val_loss: 8.5341 - val_mean_absolute_percentage_error: 8.5341\n",
      "Epoch 8/100\n",
      "30000/30000 [==============================] - 3s 90us/sample - loss: 8.7947 - mean_absolute_percentage_error: 8.7947 - val_loss: 8.5554 - val_mean_absolute_percentage_error: 8.5554\n",
      "Epoch 9/100\n",
      "30000/30000 [==============================] - 3s 90us/sample - loss: 8.6757 - mean_absolute_percentage_error: 8.6757 - val_loss: 9.6621 - val_mean_absolute_percentage_error: 9.6621\n",
      "Epoch 10/100\n",
      "30000/30000 [==============================] - 3s 90us/sample - loss: 8.5711 - mean_absolute_percentage_error: 8.5711 - val_loss: 8.7592 - val_mean_absolute_percentage_error: 8.7592\n",
      "Epoch 11/100\n",
      "30000/30000 [==============================] - 3s 92us/sample - loss: 8.7195 - mean_absolute_percentage_error: 8.7195 - val_loss: 8.7350 - val_mean_absolute_percentage_error: 8.7350\n",
      "Epoch 12/100\n",
      "30000/30000 [==============================] - 3s 92us/sample - loss: 8.6310 - mean_absolute_percentage_error: 8.6310 - val_loss: 8.4389 - val_mean_absolute_percentage_error: 8.4389\n",
      "Epoch 13/100\n",
      "30000/30000 [==============================] - 3s 90us/sample - loss: 8.5832 - mean_absolute_percentage_error: 8.5832 - val_loss: 8.9896 - val_mean_absolute_percentage_error: 8.9896\n",
      "Epoch 14/100\n",
      "30000/30000 [==============================] - 3s 90us/sample - loss: 8.3854 - mean_absolute_percentage_error: 8.3854 - val_loss: 8.2637 - val_mean_absolute_percentage_error: 8.2637\n",
      "Epoch 15/100\n",
      "30000/30000 [==============================] - 3s 90us/sample - loss: 8.5452 - mean_absolute_percentage_error: 8.5452 - val_loss: 8.2915 - val_mean_absolute_percentage_error: 8.2915\n",
      "Epoch 16/100\n",
      "30000/30000 [==============================] - 3s 88us/sample - loss: 8.4100 - mean_absolute_percentage_error: 8.4100 - val_loss: 8.4222 - val_mean_absolute_percentage_error: 8.4222\n",
      "Epoch 17/100\n",
      "30000/30000 [==============================] - 3s 89us/sample - loss: 8.2878 - mean_absolute_percentage_error: 8.2878 - val_loss: 8.1258 - val_mean_absolute_percentage_error: 8.1258\n",
      "Epoch 18/100\n",
      "30000/30000 [==============================] - 3s 89us/sample - loss: 8.5423 - mean_absolute_percentage_error: 8.5423 - val_loss: 8.5270 - val_mean_absolute_percentage_error: 8.5270\n",
      "Epoch 19/100\n",
      "30000/30000 [==============================] - 3s 91us/sample - loss: 8.3587 - mean_absolute_percentage_error: 8.3587 - val_loss: 8.1026 - val_mean_absolute_percentage_error: 8.1026\n",
      "Epoch 20/100\n",
      "30000/30000 [==============================] - 3s 91us/sample - loss: 8.0353 - mean_absolute_percentage_error: 8.0353 - val_loss: 8.1502 - val_mean_absolute_percentage_error: 8.1502\n",
      "Epoch 21/100\n",
      "30000/30000 [==============================] - 3s 91us/sample - loss: 8.1355 - mean_absolute_percentage_error: 8.1355 - val_loss: 7.9566 - val_mean_absolute_percentage_error: 7.9566\n",
      "Epoch 22/100\n",
      "30000/30000 [==============================] - 3s 90us/sample - loss: 8.1158 - mean_absolute_percentage_error: 8.1158 - val_loss: 8.1198 - val_mean_absolute_percentage_error: 8.1198\n",
      "Epoch 23/100\n",
      "30000/30000 [==============================] - 3s 90us/sample - loss: 8.2926 - mean_absolute_percentage_error: 8.2926 - val_loss: 9.5848 - val_mean_absolute_percentage_error: 9.5848\n",
      "Epoch 24/100\n",
      "30000/30000 [==============================] - 3s 89us/sample - loss: 8.0981 - mean_absolute_percentage_error: 8.0981 - val_loss: 8.1485 - val_mean_absolute_percentage_error: 8.1485\n",
      "Epoch 25/100\n",
      "30000/30000 [==============================] - 3s 90us/sample - loss: 7.9353 - mean_absolute_percentage_error: 7.9353 - val_loss: 8.2896 - val_mean_absolute_percentage_error: 8.2896\n",
      "Epoch 26/100\n",
      "30000/30000 [==============================] - 3s 90us/sample - loss: 7.9916 - mean_absolute_percentage_error: 7.9916 - val_loss: 7.9630 - val_mean_absolute_percentage_error: 7.9630\n",
      "Epoch 27/100\n",
      "30000/30000 [==============================] - 3s 91us/sample - loss: 7.8353 - mean_absolute_percentage_error: 7.8353 - val_loss: 8.3328 - val_mean_absolute_percentage_error: 8.3328\n",
      "Epoch 28/100\n",
      "30000/30000 [==============================] - 3s 90us/sample - loss: 7.7269 - mean_absolute_percentage_error: 7.7269 - val_loss: 8.7943 - val_mean_absolute_percentage_error: 8.7943\n",
      "Epoch 29/100\n",
      "30000/30000 [==============================] - 3s 91us/sample - loss: 8.0946 - mean_absolute_percentage_error: 8.0946 - val_loss: 8.0248 - val_mean_absolute_percentage_error: 8.0248\n",
      "Epoch 30/100\n",
      "30000/30000 [==============================] - 3s 90us/sample - loss: 7.9326 - mean_absolute_percentage_error: 7.9326 - val_loss: 10.2238 - val_mean_absolute_percentage_error: 10.2238\n",
      "Epoch 31/100\n",
      "30000/30000 [==============================] - 3s 91us/sample - loss: 8.3476 - mean_absolute_percentage_error: 8.3476 - val_loss: 10.7267 - val_mean_absolute_percentage_error: 10.7267\n",
      "Epoch 32/100\n",
      "30000/30000 [==============================] - 3s 90us/sample - loss: 8.7491 - mean_absolute_percentage_error: 8.7491 - val_loss: 8.9588 - val_mean_absolute_percentage_error: 8.9588\n",
      "Epoch 33/100\n",
      "30000/30000 [==============================] - 3s 91us/sample - loss: 8.1142 - mean_absolute_percentage_error: 8.1142 - val_loss: 9.0409 - val_mean_absolute_percentage_error: 9.0409\n",
      "Epoch 34/100\n",
      "30000/30000 [==============================] - 3s 90us/sample - loss: 7.7778 - mean_absolute_percentage_error: 7.7778 - val_loss: 8.3088 - val_mean_absolute_percentage_error: 8.3088\n",
      "Epoch 35/100\n",
      "30000/30000 [==============================] - 3s 90us/sample - loss: 7.5722 - mean_absolute_percentage_error: 7.5722 - val_loss: 8.6664 - val_mean_absolute_percentage_error: 8.6664\n",
      "Epoch 36/100\n",
      "30000/30000 [==============================] - 3s 90us/sample - loss: 7.8709 - mean_absolute_percentage_error: 7.8709 - val_loss: 7.6395 - val_mean_absolute_percentage_error: 7.6395\n",
      "Epoch 37/100\n",
      "30000/30000 [==============================] - 3s 91us/sample - loss: 7.6253 - mean_absolute_percentage_error: 7.6253 - val_loss: 7.7683 - val_mean_absolute_percentage_error: 7.7683\n",
      "Epoch 38/100\n",
      "30000/30000 [==============================] - 3s 90us/sample - loss: 7.4845 - mean_absolute_percentage_error: 7.4845 - val_loss: 7.6465 - val_mean_absolute_percentage_error: 7.6465\n",
      "Epoch 39/100\n",
      "30000/30000 [==============================] - 3s 90us/sample - loss: 7.4416 - mean_absolute_percentage_error: 7.4416 - val_loss: 8.0056 - val_mean_absolute_percentage_error: 8.0056\n",
      "Epoch 40/100\n",
      "30000/30000 [==============================] - 3s 90us/sample - loss: 7.5185 - mean_absolute_percentage_error: 7.5185 - val_loss: 7.8917 - val_mean_absolute_percentage_error: 7.8917\n",
      "Epoch 41/100\n",
      "30000/30000 [==============================] - 3s 89us/sample - loss: 7.5960 - mean_absolute_percentage_error: 7.5960 - val_loss: 7.6522 - val_mean_absolute_percentage_error: 7.6522\n",
      "Epoch 42/100\n",
      "30000/30000 [==============================] - 3s 90us/sample - loss: 7.4922 - mean_absolute_percentage_error: 7.4922 - val_loss: 7.8045 - val_mean_absolute_percentage_error: 7.8045\n",
      "Epoch 43/100\n",
      "30000/30000 [==============================] - 3s 90us/sample - loss: 7.4760 - mean_absolute_percentage_error: 7.4760 - val_loss: 8.1040 - val_mean_absolute_percentage_error: 8.1040\n",
      "Epoch 44/100\n",
      "30000/30000 [==============================] - 3s 90us/sample - loss: 7.4254 - mean_absolute_percentage_error: 7.4254 - val_loss: 7.6508 - val_mean_absolute_percentage_error: 7.6508\n",
      "Epoch 45/100\n",
      "30000/30000 [==============================] - 3s 89us/sample - loss: 7.6117 - mean_absolute_percentage_error: 7.6117 - val_loss: 8.0465 - val_mean_absolute_percentage_error: 8.0465\n",
      "Epoch 46/100\n",
      "30000/30000 [==============================] - 3s 90us/sample - loss: 7.4980 - mean_absolute_percentage_error: 7.4980 - val_loss: 7.8444 - val_mean_absolute_percentage_error: 7.8444\n",
      "Epoch 47/100\n",
      "30000/30000 [==============================] - 3s 90us/sample - loss: 7.9742 - mean_absolute_percentage_error: 7.9742 - val_loss: 8.2149 - val_mean_absolute_percentage_error: 8.2149\n",
      "Epoch 48/100\n",
      "30000/30000 [==============================] - 3s 90us/sample - loss: 7.6100 - mean_absolute_percentage_error: 7.6100 - val_loss: 8.2070 - val_mean_absolute_percentage_error: 8.2070\n",
      "Epoch 49/100\n",
      "30000/30000 [==============================] - 3s 91us/sample - loss: 7.4426 - mean_absolute_percentage_error: 7.4426 - val_loss: 7.5830 - val_mean_absolute_percentage_error: 7.5830\n",
      "Epoch 50/100\n",
      "30000/30000 [==============================] - 3s 90us/sample - loss: 7.5561 - mean_absolute_percentage_error: 7.5561 - val_loss: 8.8751 - val_mean_absolute_percentage_error: 8.8751\n",
      "Epoch 51/100\n",
      "30000/30000 [==============================] - 3s 91us/sample - loss: 7.4087 - mean_absolute_percentage_error: 7.4087 - val_loss: 7.6113 - val_mean_absolute_percentage_error: 7.6113\n",
      "Epoch 52/100\n",
      "30000/30000 [==============================] - 3s 90us/sample - loss: 7.5657 - mean_absolute_percentage_error: 7.5657 - val_loss: 7.6462 - val_mean_absolute_percentage_error: 7.6462\n",
      "Epoch 53/100\n",
      "30000/30000 [==============================] - 3s 90us/sample - loss: 7.5405 - mean_absolute_percentage_error: 7.5405 - val_loss: 8.2327 - val_mean_absolute_percentage_error: 8.2327\n",
      "Epoch 54/100\n",
      "30000/30000 [==============================] - 3s 90us/sample - loss: 7.7574 - mean_absolute_percentage_error: 7.7574 - val_loss: 7.8880 - val_mean_absolute_percentage_error: 7.8880\n",
      "Epoch 55/100\n",
      "30000/30000 [==============================] - 3s 89us/sample - loss: 7.4382 - mean_absolute_percentage_error: 7.4382 - val_loss: 7.6754 - val_mean_absolute_percentage_error: 7.6754\n",
      "Epoch 56/100\n",
      "30000/30000 [==============================] - 3s 89us/sample - loss: 7.3369 - mean_absolute_percentage_error: 7.3369 - val_loss: 7.9059 - val_mean_absolute_percentage_error: 7.9059\n",
      "Epoch 57/100\n",
      "30000/30000 [==============================] - 3s 90us/sample - loss: 7.3825 - mean_absolute_percentage_error: 7.3825 - val_loss: 7.7061 - val_mean_absolute_percentage_error: 7.7061\n",
      "Epoch 58/100\n",
      "30000/30000 [==============================] - 3s 91us/sample - loss: 7.3627 - mean_absolute_percentage_error: 7.3627 - val_loss: 8.1427 - val_mean_absolute_percentage_error: 8.1427\n",
      "Epoch 59/100\n",
      "30000/30000 [==============================] - 3s 91us/sample - loss: 7.4312 - mean_absolute_percentage_error: 7.4312 - val_loss: 8.2606 - val_mean_absolute_percentage_error: 8.2606\n",
      "Epoch 60/100\n",
      "30000/30000 [==============================] - 3s 92us/sample - loss: 7.5518 - mean_absolute_percentage_error: 7.5518 - val_loss: 7.8354 - val_mean_absolute_percentage_error: 7.8354\n",
      "Epoch 61/100\n",
      "30000/30000 [==============================] - 3s 91us/sample - loss: 7.4542 - mean_absolute_percentage_error: 7.4542 - val_loss: 8.3147 - val_mean_absolute_percentage_error: 8.3147\n",
      "Epoch 62/100\n",
      "30000/30000 [==============================] - 3s 92us/sample - loss: 7.3370 - mean_absolute_percentage_error: 7.3370 - val_loss: 7.7720 - val_mean_absolute_percentage_error: 7.7720\n",
      "Epoch 63/100\n",
      "30000/30000 [==============================] - 3s 92us/sample - loss: 7.3348 - mean_absolute_percentage_error: 7.3348 - val_loss: 7.7555 - val_mean_absolute_percentage_error: 7.7555\n",
      "Epoch 64/100\n",
      "30000/30000 [==============================] - 3s 92us/sample - loss: 7.5412 - mean_absolute_percentage_error: 7.5412 - val_loss: 7.5973 - val_mean_absolute_percentage_error: 7.5973\n",
      "Epoch 65/100\n",
      "30000/30000 [==============================] - 3s 91us/sample - loss: 7.2757 - mean_absolute_percentage_error: 7.2757 - val_loss: 7.6898 - val_mean_absolute_percentage_error: 7.6898\n",
      "Epoch 66/100\n",
      "30000/30000 [==============================] - 3s 91us/sample - loss: 7.2492 - mean_absolute_percentage_error: 7.2492 - val_loss: 8.1287 - val_mean_absolute_percentage_error: 8.1287\n",
      "Epoch 67/100\n",
      "30000/30000 [==============================] - 3s 90us/sample - loss: 7.2730 - mean_absolute_percentage_error: 7.2730 - val_loss: 8.0627 - val_mean_absolute_percentage_error: 8.0627\n",
      "Epoch 68/100\n",
      "30000/30000 [==============================] - 3s 90us/sample - loss: 7.3745 - mean_absolute_percentage_error: 7.3745 - val_loss: 7.6793 - val_mean_absolute_percentage_error: 7.6793\n",
      "Epoch 69/100\n",
      "30000/30000 [==============================] - 3s 90us/sample - loss: 7.2813 - mean_absolute_percentage_error: 7.2813 - val_loss: 7.7465 - val_mean_absolute_percentage_error: 7.7465\n",
      "Epoch 70/100\n",
      "30000/30000 [==============================] - 3s 90us/sample - loss: 7.3557 - mean_absolute_percentage_error: 7.3557 - val_loss: 8.8303 - val_mean_absolute_percentage_error: 8.8303\n",
      "Epoch 71/100\n",
      "30000/30000 [==============================] - 3s 90us/sample - loss: 7.4371 - mean_absolute_percentage_error: 7.4371 - val_loss: 7.6148 - val_mean_absolute_percentage_error: 7.6148\n",
      "Epoch 72/100\n",
      "30000/30000 [==============================] - 3s 90us/sample - loss: 7.2397 - mean_absolute_percentage_error: 7.2397 - val_loss: 7.7959 - val_mean_absolute_percentage_error: 7.7958\n",
      "Epoch 73/100\n",
      "30000/30000 [==============================] - 3s 90us/sample - loss: 7.2112 - mean_absolute_percentage_error: 7.2112 - val_loss: 7.8411 - val_mean_absolute_percentage_error: 7.8411\n",
      "Epoch 74/100\n",
      "30000/30000 [==============================] - 3s 90us/sample - loss: 7.3008 - mean_absolute_percentage_error: 7.3008 - val_loss: 7.7148 - val_mean_absolute_percentage_error: 7.7148\n",
      "Epoch 75/100\n",
      "30000/30000 [==============================] - 3s 91us/sample - loss: 7.3022 - mean_absolute_percentage_error: 7.3022 - val_loss: 8.3517 - val_mean_absolute_percentage_error: 8.3517\n",
      "Epoch 76/100\n",
      "30000/30000 [==============================] - 3s 90us/sample - loss: 7.2144 - mean_absolute_percentage_error: 7.2144 - val_loss: 7.6748 - val_mean_absolute_percentage_error: 7.6748\n",
      "Epoch 77/100\n",
      "30000/30000 [==============================] - 3s 90us/sample - loss: 7.2706 - mean_absolute_percentage_error: 7.2706 - val_loss: 7.6598 - val_mean_absolute_percentage_error: 7.6598\n",
      "Epoch 78/100\n",
      "30000/30000 [==============================] - 3s 88us/sample - loss: 7.2999 - mean_absolute_percentage_error: 7.2999 - val_loss: 7.5751 - val_mean_absolute_percentage_error: 7.5751\n",
      "Epoch 79/100\n",
      "30000/30000 [==============================] - 3s 90us/sample - loss: 7.3396 - mean_absolute_percentage_error: 7.3396 - val_loss: 7.7436 - val_mean_absolute_percentage_error: 7.7436\n",
      "Epoch 80/100\n",
      "30000/30000 [==============================] - 3s 92us/sample - loss: 7.5512 - mean_absolute_percentage_error: 7.5512 - val_loss: 8.0468 - val_mean_absolute_percentage_error: 8.0468\n",
      "Epoch 81/100\n",
      "30000/30000 [==============================] - 3s 91us/sample - loss: 7.3223 - mean_absolute_percentage_error: 7.3223 - val_loss: 7.9524 - val_mean_absolute_percentage_error: 7.9524\n",
      "Epoch 82/100\n",
      "30000/30000 [==============================] - 3s 91us/sample - loss: 7.4069 - mean_absolute_percentage_error: 7.4069 - val_loss: 7.8959 - val_mean_absolute_percentage_error: 7.8959\n",
      "Epoch 83/100\n",
      "30000/30000 [==============================] - 3s 89us/sample - loss: 7.1140 - mean_absolute_percentage_error: 7.1140 - val_loss: 7.7031 - val_mean_absolute_percentage_error: 7.7031\n",
      "Epoch 84/100\n",
      "30000/30000 [==============================] - 3s 90us/sample - loss: 7.1297 - mean_absolute_percentage_error: 7.1297 - val_loss: 7.7249 - val_mean_absolute_percentage_error: 7.7249\n",
      "Epoch 85/100\n",
      "30000/30000 [==============================] - 3s 89us/sample - loss: 7.5690 - mean_absolute_percentage_error: 7.5690 - val_loss: 7.6780 - val_mean_absolute_percentage_error: 7.6780\n",
      "Epoch 86/100\n",
      "30000/30000 [==============================] - 3s 89us/sample - loss: 7.1084 - mean_absolute_percentage_error: 7.1084 - val_loss: 7.5852 - val_mean_absolute_percentage_error: 7.5852\n",
      "Epoch 87/100\n",
      "30000/30000 [==============================] - 3s 90us/sample - loss: 7.4439 - mean_absolute_percentage_error: 7.4439 - val_loss: 7.6626 - val_mean_absolute_percentage_error: 7.6626\n",
      "Epoch 88/100\n",
      "30000/30000 [==============================] - 3s 90us/sample - loss: 7.0427 - mean_absolute_percentage_error: 7.0427 - val_loss: 7.7362 - val_mean_absolute_percentage_error: 7.7362\n",
      "Epoch 89/100\n",
      "30000/30000 [==============================] - 3s 90us/sample - loss: 7.3245 - mean_absolute_percentage_error: 7.3245 - val_loss: 7.5289 - val_mean_absolute_percentage_error: 7.5289\n",
      "Epoch 90/100\n",
      "30000/30000 [==============================] - 3s 88us/sample - loss: 7.1908 - mean_absolute_percentage_error: 7.1908 - val_loss: 7.5134 - val_mean_absolute_percentage_error: 7.5134\n",
      "Epoch 91/100\n",
      "30000/30000 [==============================] - 3s 89us/sample - loss: 7.1054 - mean_absolute_percentage_error: 7.1054 - val_loss: 7.5827 - val_mean_absolute_percentage_error: 7.5827\n",
      "Epoch 92/100\n",
      "30000/30000 [==============================] - 3s 91us/sample - loss: 7.1052 - mean_absolute_percentage_error: 7.1052 - val_loss: 9.3286 - val_mean_absolute_percentage_error: 9.3286\n",
      "Epoch 93/100\n",
      "30000/30000 [==============================] - 3s 89us/sample - loss: 7.1945 - mean_absolute_percentage_error: 7.1945 - val_loss: 7.6097 - val_mean_absolute_percentage_error: 7.6097\n",
      "Epoch 94/100\n",
      "30000/30000 [==============================] - 3s 89us/sample - loss: 7.0617 - mean_absolute_percentage_error: 7.0617 - val_loss: 7.5205 - val_mean_absolute_percentage_error: 7.5205\n",
      "Epoch 95/100\n",
      "30000/30000 [==============================] - 3s 89us/sample - loss: 7.0069 - mean_absolute_percentage_error: 7.0069 - val_loss: 7.9850 - val_mean_absolute_percentage_error: 7.9850\n",
      "Epoch 96/100\n",
      "30000/30000 [==============================] - 3s 90us/sample - loss: 7.3301 - mean_absolute_percentage_error: 7.3301 - val_loss: 8.0662 - val_mean_absolute_percentage_error: 8.0662\n",
      "Epoch 97/100\n",
      "30000/30000 [==============================] - 3s 89us/sample - loss: 7.0329 - mean_absolute_percentage_error: 7.0329 - val_loss: 7.7688 - val_mean_absolute_percentage_error: 7.7688\n",
      "Epoch 98/100\n",
      "30000/30000 [==============================] - 3s 89us/sample - loss: 7.0592 - mean_absolute_percentage_error: 7.0592 - val_loss: 7.6503 - val_mean_absolute_percentage_error: 7.6503\n",
      "Epoch 99/100\n",
      "30000/30000 [==============================] - 3s 88us/sample - loss: 7.1270 - mean_absolute_percentage_error: 7.1270 - val_loss: 7.6274 - val_mean_absolute_percentage_error: 7.6274\n",
      "Epoch 100/100\n",
      "30000/30000 [==============================] - 3s 90us/sample - loss: 7.1190 - mean_absolute_percentage_error: 7.1190 - val_loss: 7.7247 - val_mean_absolute_percentage_error: 7.7247\n"
     ]
    },
    {
     "data": {
      "text/plain": [
       "<tensorflow.python.keras.callbacks.History at 0x7f2ad96010f0>"
      ]
     },
     "execution_count": 89,
     "metadata": {
      "tags": []
     },
     "output_type": "execute_result"
    }
   ],
   "source": [
    "# train\n",
    "model = MLP()\n",
    "tensorboard = TensorBoard(log_dir=\"logs\")\n",
    "checkpoint = tf.keras.callbacks.ModelCheckpoint(\n",
    "    \"./checkpoint/MLP-{epoch:04d}.ckpt\",\n",
    "    verbose=1,\n",
    "    save_weights_only=True,\n",
    "    period=500\n",
    ")\n",
    "model.compile(\n",
    "    optimizer=tf.keras.optimizers.Adam(lr=1e-1),\n",
    "    loss='mean_absolute_percentage_error',\n",
    "    metrics=[\n",
    "        \"mean_absolute_percentage_error\", \n",
    " #       \"mean_absolute_error\",\n",
    " #       \"mean_squared_error\"\n",
    "    ]\n",
    ")\n",
    "model.fit(\n",
    "    x_train, \n",
    "    y_train, \n",
    "    epochs=100,\n",
    "    batch_size=512,\n",
    "    validation_data=(x_valid, y_valid),\n",
    "    callbacks=[tensorboard, checkpoint]\n",
    ")"
   ]
  },
  {
   "cell_type": "code",
   "execution_count": 0,
   "metadata": {
    "colab": {
     "base_uri": "https://localhost:8080/",
     "height": 85
    },
    "colab_type": "code",
    "id": "BccEgSQ3YLeu",
    "outputId": "2453890a-db83-4346-ba95-d9a549238161"
   },
   "outputs": [
    {
     "name": "stdout",
     "output_type": "stream",
     "text": [
      "30000/30000 [==============================] - 2s 78us/sample - loss: 6.5726 - mean_absolute_percentage_error: 6.5726\n",
      "5000/5000 [==============================] - 0s 77us/sample - loss: 7.6253 - mean_absolute_percentage_error: 7.6253\n",
      "train mape : 6.573%\n",
      "valid mape : 7.625%\n"
     ]
    }
   ],
   "source": [
    "train_mape, train_acc = model.evaluate(x_train,  y_train)\n",
    "val_mape, val_acc = model.evaluate(x_valid,  y_valid)\n",
    "print(f'train mape : {train_mape:.3f}%' )\n",
    "\n",
    "print(f'valid mape : {val_mape:.3f}%' )"
   ]
  },
  {
   "cell_type": "code",
   "execution_count": 0,
   "metadata": {
    "colab": {
     "base_uri": "https://localhost:8080/",
     "height": 51
    },
    "colab_type": "code",
    "id": "7GwfxZEamCTj",
    "outputId": "c21dd471-f97f-40e1-e024-22f9eb0aca21"
   },
   "outputs": [
    {
     "name": "stdout",
     "output_type": "stream",
     "text": [
      "5000/5000 [==============================] - 0s 78us/sample - loss: 7.3816 - mean_absolute_percentage_error: 7.3816\n",
      "test mape : 7.382%\n"
     ]
    }
   ],
   "source": [
    "test_mape, test_acc = model.evaluate(x_test,  y_test)\n",
    "print(f'test mape : {test_mape:.3f}%' )"
   ]
  },
  {
   "cell_type": "code",
   "execution_count": 0,
   "metadata": {
    "colab": {
     "base_uri": "https://localhost:8080/",
     "height": 34
    },
    "colab_type": "code",
    "id": "zAc3R77sCu2i",
    "outputId": "1045b4e5-c90a-4287-cb93-d1f44a0bd32f"
   },
   "outputs": [
    {
     "data": {
      "text/plain": [
       "array([[19491340.]], dtype=float32)"
      ]
     },
     "execution_count": 91,
     "metadata": {
      "tags": []
     },
     "output_type": "execute_result"
    }
   ],
   "source": [
    "model.dropout1 = tf.keras.layers.Dropout(0.0)\n",
    "data = data.append(pd.DataFrame.from_dict({\n",
    "    \"駅名\": [\"新橋\"],\n",
    "    \"建物構造\": [\"SRC\"],\n",
    "    \"徒歩分\": [10],\n",
    "    \"専有面積\": [30],\n",
    "    \"間取り\": [\"R\"],\n",
    "    \"部屋数\": [1],\n",
    "    \"築年\": [\"198001\"],\n",
    "    \"所在階\": [\"5\"],\n",
    "    \"成約価格\": [-1]\n",
    "})).reset_index(drop=True)\n",
    "X = create_feature(data)\n",
    "model.predict_on_batch(X[-1:])"
   ]
  },
  {
   "cell_type": "code",
   "execution_count": 0,
   "metadata": {
    "colab": {
     "base_uri": "https://localhost:8080/",
     "height": 34
    },
    "colab_type": "code",
    "id": "iY3gZZFHLvkr",
    "outputId": "7408d751-4a96-4a7b-ffe3-68a8d2a54a0f"
   },
   "outputs": [
    {
     "data": {
      "text/plain": [
       "array([[19491340.]], dtype=float32)"
      ]
     },
     "execution_count": 92,
     "metadata": {
      "tags": []
     },
     "output_type": "execute_result"
    }
   ],
   "source": [
    "model.dropout1 = tf.keras.layers.Dropout(0.0)\n",
    "data = data.append(pd.DataFrame.from_dict({\n",
    "    \"駅名\": [\"新橋\"],\n",
    "    \"建物構造\": [\"SRC\"],\n",
    "    \"徒歩分\": [10],\n",
    "    \"専有面積\": [30],\n",
    "    \"間取り\": [\"R\"],\n",
    "    \"部屋数\": [1],\n",
    "    \"築年\": [\"198001\"],\n",
    "    \"所在階\": [\"5\"],\n",
    "    \"成約価格\": [-1]\n",
    "})).reset_index(drop=True)\n",
    "X = create_feature(data)\n",
    "model.predict_on_batch(X[-1:])"
   ]
  },
  {
   "cell_type": "code",
   "execution_count": 0,
   "metadata": {
    "colab": {},
    "colab_type": "code",
    "id": "9jCKHt5uOMKU"
   },
   "outputs": [],
   "source": []
  },
  {
   "cell_type": "code",
   "execution_count": 0,
   "metadata": {
    "colab": {},
    "colab_type": "code",
    "id": "aP8tpHw-ONXr"
   },
   "outputs": [],
   "source": []
  }
 ],
 "metadata": {
  "colab": {
   "collapsed_sections": [],
   "name": "不動産AIのtensorflow実装.ipynb",
   "provenance": []
  },
  "kernelspec": {
   "display_name": "Python 3",
   "language": "python",
   "name": "python3"
  },
  "language_info": {
   "codemirror_mode": {
    "name": "ipython",
    "version": 3
   },
   "file_extension": ".py",
   "mimetype": "text/x-python",
   "name": "python",
   "nbconvert_exporter": "python",
   "pygments_lexer": "ipython3",
   "version": "3.6.5"
  }
 },
 "nbformat": 4,
 "nbformat_minor": 1
}
